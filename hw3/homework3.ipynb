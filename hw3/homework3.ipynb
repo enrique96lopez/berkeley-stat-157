{
 "cells": [
  {
   "cell_type": "markdown",
   "metadata": {},
   "source": [
    "# Homework 3 - Berkeley STAT 157\n",
    "\n",
    "Handout 2/5/2019, due 2/12/2019 by 4pm in Git by committing to your repository.\n",
    "\n",
    "**Formatting: please include both a .ipynb and .pdf file in your homework submission, named homework3.ipynb and homework3.pdf. You can export your notebook to a pdf either by File -> Download as -> PDF via Latex (you may need Latex installed), or by simply printing to a pdf from your browser (you may want to do File -> Print Preview in jupyter first). Please don't change the filename.**       "
   ]
  },
  {
   "cell_type": "code",
   "execution_count": 42,
   "metadata": {
    "ExecuteTime": {
     "end_time": "2019-02-07T00:58:19.457771Z",
     "start_time": "2019-02-07T00:58:16.843106Z"
    }
   },
   "outputs": [],
   "source": [
    "from mxnet import nd, autograd, gluon\n",
    "from mxnet.gluon import data as gdata\n",
    "from mxnet.gluon import nn\n",
    "from mxnet import init\n",
    "from mxnet.gluon import loss as gloss\n",
    "import matplotlib.pyplot as plt\n",
    "import numpy as np"
   ]
  },
  {
   "cell_type": "markdown",
   "metadata": {},
   "source": [
    "# 1. Logistic Regression for Binary Classification\n",
    "\n",
    "In multiclass classification we typically use the exponential model \n",
    "\n",
    "$$p(y|\\mathbf{o}) = \\mathrm{softmax}(\\mathbf{o})_y = \\frac{\\exp(o_y)}{\\sum_{y'} \\exp(o_{y'})}$$\n",
    "\n",
    "1.1. Show that this parametrization has a spurious degree of freedom. That is, show that both $\\mathbf{o}$ and $\\mathbf{o} + c$ with $c \\in \\mathbb{R}$ lead to the same probability estimate.\n",
    "1.2. For binary classification, i.e. whenever we have only two classes $\\{-1, 1\\}$, we can arbitrarily set $o_{-1} = 0$. Using the shorthand $o = o_1$ show that this is equivalent to \n",
    "\n",
    "$$p(y=1|o) = \\frac{1}{1 + \\exp(-o)}$$\n",
    "\n",
    "1.3. Show that the log-likelihood loss (often called logistic loss) for labels $y \\in \\{-1, 1\\}$ is thus given by \n",
    "\n",
    "$$-\\log p(y|o) = \\log (1 + \\exp(-y \\cdot o))$$\n",
    "\n",
    "1.4. Show that for $y = 1$ the logistic loss asymptotes to $o$ for $o \\to \\infty$ and to $\\exp(o)$ for $o \\to -\\infty$. "
   ]
  },
  {
   "cell_type": "markdown",
   "metadata": {},
   "source": [
    "#1.1\n",
    "\n",
    "$$p(y|\\mathbf{o + c}) = \\frac{\\exp(o_y + c)}{\\sum_{y'} \\exp(o_{y' + c})} = \\frac{\\exp(o_y) * \\exp(c)}{\\exp(c)  * \\sum_{y'} \\exp(o_{y'}) } = \\frac{\\exp(o_y )}{\\sum_{y'} \\exp(o_{y'})} = p(y|\\mathbf{o}) $$"
   ]
  },
  {
   "cell_type": "markdown",
   "metadata": {},
   "source": [
    "#1.2\n",
    "$$p(y=1|o) = \\frac{\\exp(o)}{\\sum_{y'} \\exp(o_{y'})} = \\frac{\\exp(o)}{\\exp(o_{-1})  + \\exp(o_{1})} = \\frac{\\exp(o)}{\\exp(0) + \\exp(o_{1})}  =  \\frac{\\exp(o)}{1 + \\exp(o)} = \\frac {\\frac{\\exp(o)}{\\exp(o)}} {{\\frac{1}{\\exp(o)}}+ {\\frac{\\exp(o)}{\\exp(o)}}} = \\frac{1}{1 + \\exp(-o)}$$"
   ]
  },
  {
   "cell_type": "markdown",
   "metadata": {},
   "source": [
    "#1.3\n",
    "\n",
    "I am splitting it up into both y=1 and y=-1 since only options\n",
    "\n",
    "$$ \\log(p(y=1|o))  = \\log(\\frac{1}{1 + \\exp(-o)}) = -\\log(1+ exp(-o))$$\n",
    "now for y = -1\n",
    "\n",
    "\n",
    "$$ \\log(p(y=-1|o))  = \\log(\\frac{1}{1 + \\exp(o)}) = -\\log(1+ exp(o))$$"
   ]
  },
  {
   "cell_type": "markdown",
   "metadata": {},
   "source": [
    "#1.4"
   ]
  },
  {
   "cell_type": "markdown",
   "metadata": {},
   "source": [
    "# 2. Logistic Regression and Autograd\n",
    "\n",
    "1. Implement the binary logistic loss $l(y,o) = \\log (1 + \\exp(-y \\cdot o))$ in Gluon\n",
    "1. Plot its values for $y \\in \\{-1, 1\\}$ over the range of $o \\in [-5, 5]$.\n",
    "1. Plot its derivative with respect to $o$ for $o \\in [-5, 5]$ using 'autograd'."
   ]
  },
  {
   "cell_type": "code",
   "execution_count": 3,
   "metadata": {
    "ExecuteTime": {
     "end_time": "2019-02-07T00:58:19.464756Z",
     "start_time": "2019-02-07T00:58:19.459943Z"
    }
   },
   "outputs": [],
   "source": [
    "#1\n",
    "def loss(y,o):\n",
    "    ## add your loss function here\n",
    "    return nd.log(1+nd.exp(-y*o))"
   ]
  },
  {
   "cell_type": "code",
   "execution_count": 4,
   "metadata": {},
   "outputs": [
    {
     "data": {
      "text/plain": [
       "<matplotlib.legend.Legend at 0x11d69d198>"
      ]
     },
     "execution_count": 4,
     "metadata": {},
     "output_type": "execute_result"
    },
    {
     "data": {
      "image/png": "[encoded data removed]",
      "text/plain": [
       "<Figure size 432x288 with 1 Axes>"
      ]
     },
     "metadata": {
      "needs_background": "light"
     },
     "output_type": "display_data"
    }
   ],
   "source": [
    "#2\n",
    "o_vals = nd.arange(-5, 6)\n",
    "plt.plot(o_vals.asnumpy(), loss(-1, o_vals).asnumpy(), label='y as -1')\n",
    "plt.plot(o_vals.asnumpy(), loss(1, o_vals).asnumpy(), label= 'y as 1')\n",
    "plt.legend()"
   ]
  },
  {
   "cell_type": "code",
   "execution_count": 5,
   "metadata": {},
   "outputs": [
    {
     "data": {
      "text/plain": [
       "<matplotlib.legend.Legend at 0x11d7167f0>"
      ]
     },
     "execution_count": 5,
     "metadata": {},
     "output_type": "execute_result"
    },
    {
     "data": {
      "image/png": "[encoded data removed]",
      "text/plain": [
       "<Figure size 432x288 with 1 Axes>"
      ]
     },
     "metadata": {
      "needs_background": "light"
     },
     "output_type": "display_data"
    }
   ],
   "source": [
    "#Autograd derivative\n",
    "o_for_pos = nd.arange(-5, 6)\n",
    "o_for_neg = nd.arange(-5, 6)\n",
    "o_for_pos.attach_grad()\n",
    "o_for_neg.attach_grad()\n",
    "with autograd.record():\n",
    "    new_o_for_neg = loss(-1, o_for_neg)\n",
    "    new_o_for_pos = loss(1, o_for_pos)\n",
    "new_o_for_neg.backward()\n",
    "new_o_for_pos.backward()\n",
    "plt.plot(o_for_pos.asnumpy(), o_for_pos.grad.asnumpy(), label = 'pos')\n",
    "plt.plot(o_for_neg.asnumpy(), o_for_neg.grad.asnumpy(), label = 'neg')\n",
    "plt.legend()"
   ]
  },
  {
   "cell_type": "markdown",
   "metadata": {},
   "source": [
    "# 3. Ohm's Law\n",
    "\n",
    "Imagine that you're a young physicist, maybe named [Georg Simon Ohm](https://en.wikipedia.org/wiki/Georg_Ohm), trying to figure out how current and voltage depend on each other for resistors. You have some idea but you aren't quite sure yet whether the dependence is linear or quadratic. So you take some measurements, conveniently given to you as 'ndarrays' in Python. They are indicated by 'current' and 'voltage'.\n",
    "\n",
    "Your goal is to use least mean squares regression to identify the coefficients for the following three models using automatic differentiation and least mean squares regression. The three models are:\n",
    "\n",
    "1. Quadratic model where $\\mathrm{voltage} = c + r \\cdot \\mathrm{current} + q \\cdot \\mathrm{current}^2$.\n",
    "1. Linear model where $\\mathrm{voltage} = c + r \\cdot \\mathrm{current}$.\n",
    "1. Ohm's law where $\\mathrm{voltage} = r \\cdot \\mathrm{current}$."
   ]
  },
  {
   "cell_type": "code",
   "execution_count": 6,
   "metadata": {
    "ExecuteTime": {
     "end_time": "2019-02-07T00:58:19.477109Z",
     "start_time": "2019-02-07T00:58:19.468122Z"
    }
   },
   "outputs": [],
   "source": [
    "current = nd.array([1.5420291, 1.8935232, 2.1603365, 2.5381863, 2.893443, \\\n",
    "                    3.838855, 3.925425, 4.2233696, 4.235571, 4.273397, \\\n",
    "                    4.9332876, 6.4704757, 6.517571, 6.87826, 7.0009003, \\\n",
    "                    7.035741, 7.278681, 7.7561755, 9.121138, 9.728281])\n",
    "voltage = nd.array([63.802246, 80.036026, 91.4903, 108.28776, 122.781975, \\\n",
    "                    161.36314, 166.50816, 176.16772, 180.29395, 179.09758, \\\n",
    "                    206.21027, 272.71857, 272.24033, 289.54745, 293.8488, \\\n",
    "                    295.2281, 306.62274, 327.93243, 383.16296, 408.65967])"
   ]
  },
  {
   "cell_type": "code",
   "execution_count": 64,
   "metadata": {},
   "outputs": [
    {
     "data": {
      "text/plain": [
       "\n",
       "[[ 1.5420291  2.3778539]\n",
       " [ 1.8935232  3.5854301]\n",
       " [ 2.1603365  4.6670537]\n",
       " [ 2.5381863  6.44239  ]\n",
       " [ 2.893443   8.372013 ]\n",
       " [ 3.838855  14.736808 ]\n",
       " [ 3.925425  15.408962 ]\n",
       " [ 4.2233696 17.836851 ]\n",
       " [ 4.235571  17.940062 ]\n",
       " [ 4.273397  18.26192  ]\n",
       " [ 4.9332876 24.337326 ]\n",
       " [ 6.4704757 41.867054 ]\n",
       " [ 6.517571  42.478733 ]\n",
       " [ 6.87826   47.310463 ]\n",
       " [ 7.0009003 49.012604 ]\n",
       " [ 7.035741  49.501648 ]\n",
       " [ 7.278681  52.979195 ]\n",
       " [ 7.7561755 60.15826  ]\n",
       " [ 9.121138  83.19515  ]\n",
       " [ 9.728281  94.63945  ]]\n",
       "<NDArray 20x2 @cpu(0)>"
      ]
     },
     "execution_count": 64,
     "metadata": {},
     "output_type": "execute_result"
    }
   ],
   "source": [
    "current_sq = current**2\n",
    "new_c = current.reshape(len(current), 1)\n",
    "new_c_sq = current_sq.reshape(len(current), 1)\n",
    "updated_current = nd.concat(new_c, new_c_sq)\n",
    "updated_current"
   ]
  },
  {
   "cell_type": "code",
   "execution_count": 77,
   "metadata": {},
   "outputs": [
    {
     "name": "stdout",
     "output_type": "stream",
     "text": [
      "epoch 1, loss: 23351.488281\n",
      "epoch 2, loss: 18845.189453\n",
      "epoch 3, loss: 15289.289062\n",
      "epoch 4, loss: 12483.317383\n",
      "epoch 5, loss: 10269.085938\n",
      "epoch 6, loss: 8521.777344\n",
      "epoch 7, loss: 7142.899902\n",
      "epoch 8, loss: 6054.739258\n",
      "epoch 9, loss: 5195.972656\n",
      "epoch 10, loss: 4518.213379\n",
      "epoch 11, loss: 3983.279785\n",
      "epoch 12, loss: 3561.044922\n",
      "epoch 13, loss: 3227.738037\n",
      "epoch 14, loss: 2964.599854\n",
      "epoch 15, loss: 2756.829590\n",
      "epoch 16, loss: 2592.748535\n",
      "epoch 17, loss: 2463.140869\n",
      "epoch 18, loss: 2360.735840\n",
      "epoch 19, loss: 2279.794434\n",
      "epoch 20, loss: 2215.789551\n",
      "epoch 21, loss: 2165.148926\n",
      "epoch 22, loss: 2125.053223\n",
      "epoch 23, loss: 2093.278809\n",
      "epoch 24, loss: 2068.069824\n",
      "epoch 25, loss: 2048.041992\n",
      "weight and bias: \n",
      "[[0.8174263 5.144917 ]]\n",
      "<NDArray 1x2 @cpu(0)> \n",
      "[0.1546553]\n",
      "<NDArray 1 @cpu(0)>\n"
     ]
    }
   ],
   "source": [
    "#1\n",
    "bs = 32\n",
    "\n",
    "data_q1 = gdata.ArrayDataset(updated_current, voltage)\n",
    "data_q1_iter = gdata.DataLoader(data_q1, bs, shuffle = True)\n",
    "\n",
    "net_q1 = nn.Sequential()\n",
    "net_q1.add(nn.Dense(1, use_bias = True))\n",
    "net_q1.initialize(init.Normal(sigma=0.01))\n",
    "\n",
    "loss_q1 = gloss.L2Loss() \n",
    "\n",
    "trainer_q1 = gluon.Trainer(net_q1.collect_params(), 'sgd', {'learning_rate':0.0001})\n",
    "\n",
    "num_epoch = 25\n",
    "\n",
    "for epoch in range(1, num_epoch + 1):\n",
    "    for X, y in data_q1_iter:\n",
    "        with autograd.record():\n",
    "            l = loss_q1(net_q1(X), y)\n",
    "        l.backward()\n",
    "        trainer_q1.step(bs)\n",
    "    l = loss_q1(net_q1(updated_current), voltage)\n",
    "    print('epoch %d, loss: %f' %(epoch, l.mean().asnumpy()))\n",
    "\n",
    "w_1 = net_q1[0].weight.data()\n",
    "bias_1 = net_q1[0].bias.data()\n",
    "print(\"weight and bias:\", w_1, bias_1)"
   ]
  },
  {
   "cell_type": "code",
   "execution_count": null,
   "metadata": {},
   "outputs": [],
   "source": []
  },
  {
   "cell_type": "code",
   "execution_count": null,
   "metadata": {},
   "outputs": [],
   "source": [
    "#2"
   ]
  },
  {
   "cell_type": "code",
   "execution_count": 79,
   "metadata": {},
   "outputs": [
    {
     "name": "stdout",
     "output_type": "stream",
     "text": [
      "epoch 1, loss: 20086.898438\n",
      "epoch 2, loss: 13907.583984\n",
      "epoch 3, loss: 9629.552734\n",
      "epoch 4, loss: 6667.807129\n",
      "epoch 5, loss: 4617.344727\n",
      "epoch 6, loss: 3197.777588\n",
      "epoch 7, loss: 2214.989746\n",
      "epoch 8, loss: 1534.589233\n",
      "epoch 9, loss: 1063.536377\n",
      "epoch 10, loss: 737.418274\n",
      "epoch 11, loss: 511.640137\n",
      "epoch 12, loss: 355.329132\n",
      "epoch 13, loss: 247.111176\n",
      "epoch 14, loss: 172.188751\n",
      "epoch 15, loss: 120.317299\n",
      "epoch 16, loss: 84.404480\n",
      "epoch 17, loss: 59.539742\n",
      "epoch 18, loss: 42.324104\n",
      "epoch 19, loss: 30.404057\n",
      "epoch 20, loss: 22.149780\n",
      "epoch 21, loss: 16.433914\n",
      "epoch 22, loss: 12.475170\n",
      "epoch 23, loss: 9.732967\n",
      "epoch 24, loss: 7.832946\n",
      "epoch 25, loss: 6.516022\n",
      "weight and bias: \n",
      "[[40.613228]]\n",
      "<NDArray 1x1 @cpu(0)> \n",
      "[6.373268]\n",
      "<NDArray 1 @cpu(0)>\n"
     ]
    }
   ],
   "source": [
    "batch_size = 20 \n",
    "data_q2 = gdata.ArrayDataset(current, voltage)\n",
    "data_q2_iter = gdata.DataLoader(data_q2, batch_size, shuffle = True)\n",
    "net_q2 = nn.Sequential()\n",
    "net_q2.add(nn.Dense(1, use_bias = True))\n",
    "\n",
    "net_q2.initialize(init.Normal(sigma=0.01))\n",
    "\n",
    "loss_q2 = gloss.L2Loss() \n",
    "\n",
    "trainer_q2 = gluon.Trainer(net_q2.collect_params(), 'sgd', {'learning_rate':0.005})\n",
    "\n",
    "num_epoch = 25\n",
    "\n",
    "for epoch in range(1, num_epoch + 1):\n",
    "    for X, y in data_q2_iter:\n",
    "        with autograd.record():\n",
    "            l2 = loss_q2(net_q2(X), y)\n",
    "        l2.backward()\n",
    "        trainer_q2.step(batch_size)\n",
    "    l2 = loss_q2(net_q2(current), voltage)\n",
    "    print('epoch %d, loss: %f' %(epoch, l2.mean().asnumpy()))\n",
    "    \n",
    "w_2 = net_q2[0].weight.data()\n",
    "bias_2 = net_q2[0].bias.data()\n",
    "print(\"weight and bias:\", w_2, bias_2)"
   ]
  },
  {
   "cell_type": "code",
   "execution_count": 25,
   "metadata": {},
   "outputs": [],
   "source": [
    "#3"
   ]
  },
  {
   "cell_type": "code",
   "execution_count": 81,
   "metadata": {},
   "outputs": [
    {
     "name": "stdout",
     "output_type": "stream",
     "text": [
      "epoch 1, loss: 12781.830078\n",
      "epoch 2, loss: 5639.353027\n",
      "epoch 3, loss: 2489.224121\n",
      "epoch 4, loss: 1099.882568\n",
      "epoch 5, loss: 487.120026\n",
      "epoch 6, loss: 216.861664\n",
      "epoch 7, loss: 97.660744\n",
      "epoch 8, loss: 45.082996\n",
      "epoch 9, loss: 21.888325\n",
      "epoch 10, loss: 11.653015\n",
      "epoch 11, loss: 7.133183\n",
      "epoch 12, loss: 5.134256\n",
      "epoch 13, loss: 4.247097\n",
      "epoch 14, loss: 3.850332\n",
      "epoch 15, loss: 3.669878\n",
      "epoch 16, loss: 3.584819\n",
      "epoch 17, loss: 3.541843\n",
      "epoch 18, loss: 3.517469\n",
      "epoch 19, loss: 3.501298\n",
      "epoch 20, loss: 3.488767\n",
      "epoch 21, loss: 3.477887\n",
      "epoch 22, loss: 3.467721\n",
      "epoch 23, loss: 3.457901\n",
      "epoch 24, loss: 3.448235\n",
      "epoch 25, loss: 3.438677\n",
      "weight: \n",
      "[[41.04584]]\n",
      "<NDArray 1x1 @cpu(0)>\n"
     ]
    }
   ],
   "source": [
    "batch_size = 20 \n",
    "data_q3 = gdata.ArrayDataset(current, voltage)\n",
    "data_q3_iter = gdata.DataLoader(data_q3, batch_size, shuffle = True)\n",
    "net_q3 = nn.Sequential()\n",
    "net_q3.add(nn.Dense(1))\n",
    "\n",
    "net_q3.initialize(init.Normal(sigma=0.01))\n",
    "\n",
    "loss_q3 = gloss.L2Loss() \n",
    "\n",
    "trainer_q3 = gluon.Trainer(net_q3.collect_params(), 'sgd', {'learning_rate':0.01})\n",
    "\n",
    "num_epoch = 25\n",
    "\n",
    "for epoch in range(1, num_epoch + 1):\n",
    "    for X, y in data_q3_iter:\n",
    "        with autograd.record():\n",
    "            l3 = loss_q3(net_q3(X), y)\n",
    "        l3.backward()\n",
    "        trainer_q3.step(batch_size)\n",
    "    l3 = loss_q3(net_q3(current), voltage)\n",
    "    print('epoch %d, loss: %f' %(epoch, l3.mean().asnumpy()))\n",
    "    \n",
    "w_3 = net_q3[0].weight.data()\n",
    "bias_3 = net_q3[0].bias.data()\n",
    "print(\"weight:\", w_3)"
   ]
  },
  {
   "cell_type": "markdown",
   "metadata": {},
   "source": [
    "# 4. Entropy\n",
    "\n",
    "Let's compute the *binary* entropy of a number of interesting data sources. \n",
    "\n",
    "1. Assume that you're watching the output generated by a [monkey at a typewriter](https://en.wikipedia.org/wiki/File:Chimpanzee_seated_at_typewriter.jpg). The monkey presses any of the $44$ keys of the typewriter at random (you can assume that it has not discovered any special keys or the shift key yet). How many bits of randomness per character do you observe?\n",
    "1. Unhappy with the monkey you replaced it by a drunk typesetter. It is able to generate words, albeit not coherently. Instead, it picks a random word out of a vocabulary of $2,000$ words. Moreover, assume that the average length of a word is $4.5$ letters in English. How many bits of randomness do you observe now?\n",
    "1. Still unhappy with the result you replace the typesetter by a high quality language model. These can obtain perplexity numbers as low as 20 points per character. The perplexity is defined as a length normalized probability, i.e.\n",
    "\n",
    "$$\\mathrm{PPL}(x) = \\left[p(x)\\right]^{1/\\mathrm{length}(x)}$$"
   ]
  },
  {
   "cell_type": "code",
   "execution_count": 39,
   "metadata": {},
   "outputs": [
    {
     "name": "stdout",
     "output_type": "stream",
     "text": [
      "\n",
      "[5.45943]\n",
      "<NDArray 1 @cpu(0)>\n"
     ]
    }
   ],
   "source": [
    "#𝐻(𝑋)=−∑𝑖=1𝑛Pr[𝑥𝑖]⋅log2(Pr[𝑥𝑖]) \n",
    "val = 0\n",
    "for i in nd.ones(44)/44:\n",
    "    val += i * nd.log2(i)\n",
    "val *= -1\n",
    "print(val)"
   ]
  },
  {
   "cell_type": "code",
   "execution_count": 45,
   "metadata": {},
   "outputs": [
    {
     "name": "stdout",
     "output_type": "stream",
     "text": [
      "\n",
      "[23.794353]\n",
      "<NDArray 1 @cpu(0)>\n"
     ]
    }
   ],
   "source": [
    "val_q2 = 0\n",
    "for i in nd.ones(2000)/2000:\n",
    "    val_q2 += i * nd.log2(i)\n",
    "val_q2 *= -1 * np.log2(4.5)\n",
    "print(val_q2)"
   ]
  },
  {
   "cell_type": "code",
   "execution_count": 47,
   "metadata": {},
   "outputs": [
    {
     "name": "stdout",
     "output_type": "stream",
     "text": [
      "\n",
      "[0.01096555]\n",
      "<NDArray 1 @cpu(0)>\n"
     ]
    }
   ],
   "source": [
    "val_q3 = 0\n",
    "px = (nd.ones(2000)/2000)**1/2000\n",
    "for i in px:\n",
    "    val_q3 += i * nd.log2(i)\n",
    "val_q3 *= -1\n",
    "print(val_q3)"
   ]
  },
  {
   "cell_type": "markdown",
   "metadata": {},
   "source": [
    "# 5. Wien's Approximation for the Temperature (bonus)\n",
    "\n",
    "We will now abuse Gluon to estimate the temperature of a black body. The energy emanated from a black body is given by Wien's approximation.\n",
    "\n",
    "$$B_\\lambda(T) = \\frac{2 h c^2}{\\lambda^5} \\exp\\left(-\\frac{h c}{\\lambda k T}\\right)$$\n",
    "\n",
    "That is, the amount of energy depends on the fifth power of the wavelength $\\lambda$ and the temperature $T$ of the body. The latter ensures a cutoff beyond a temperature-characteristic peak. Let us define this and plot it."
   ]
  },
  {
   "cell_type": "code",
   "execution_count": 3,
   "metadata": {
    "ExecuteTime": {
     "end_time": "2019-02-07T00:58:19.805358Z",
     "start_time": "2019-02-07T00:58:19.479818Z"
    }
   },
   "outputs": [
    {
     "data": {
      "image/png": "[encoded data removed]",
      "text/plain": [
       "<Figure size 432x288 with 1 Axes>"
      ]
     },
     "metadata": {
      "needs_background": "light"
     },
     "output_type": "display_data"
    }
   ],
   "source": [
    "# Lightspeed\n",
    "c = 299792458\n",
    "# Planck's constant\n",
    "h = 6.62607004e-34\n",
    "# Boltzmann constant\n",
    "k = 1.38064852e-23\n",
    "# Wavelength scale (nanometers)\n",
    "lamscale = 1e-6\n",
    "# Pulling out all powers of 10 upfront\n",
    "p_out = 2 * h * c**2 / lamscale**5\n",
    "p_in = (h / k) * (c/lamscale) \n",
    "\n",
    "# Wien's law\n",
    "def wien(lam, t):\n",
    "    return (p_out / lam**5) * nd.exp(-p_in / (lam * t))\n",
    "\n",
    "# Plot the radiance for a few different temperatures\n",
    "lam = nd.arange(0,100,0.01)\n",
    "for t in [10, 100, 150, 200, 250, 300, 350]:\n",
    "    radiance = wien(lam, t)\n",
    "    plt.plot(lam.asnumpy(), radiance.asnumpy(), label=('T=' + str(t) + 'K'))\n",
    "plt.legend()\n",
    "plt.show()"
   ]
  },
  {
   "cell_type": "markdown",
   "metadata": {},
   "source": [
    "Next we assume that we are a fearless physicist measuring some data. Of course, we need to pretend that we don't really know the temperature. But we measure the radiation at a few wavelengths.  "
   ]
  },
  {
   "cell_type": "code",
   "execution_count": 4,
   "metadata": {
    "ExecuteTime": {
     "end_time": "2019-02-07T00:58:20.063122Z",
     "start_time": "2019-02-07T00:58:19.808000Z"
    }
   },
   "outputs": [
    {
     "data": {
      "image/png": "[encoded data removed]",
      "text/plain": [
       "<Figure size 432x288 with 1 Axes>"
      ]
     },
     "metadata": {
      "needs_background": "light"
     },
     "output_type": "display_data"
    }
   ],
   "source": [
    "# real temperature is approximately 0C\n",
    "realtemp = 273\n",
    "# we observe at 3000nm up to 20,000nm wavelength\n",
    "wavelengths = nd.arange(3,20,2)\n",
    "# our infrared filters are pretty lousy ...\n",
    "delta = nd.random_normal(shape=(len(wavelengths))) * 1\n",
    "\n",
    "radiance = wien(wavelengths + delta,realtemp)\n",
    "plt.plot(wavelengths.asnumpy(), radiance.asnumpy(), label='measured')\n",
    "plt.plot(wavelengths.asnumpy(), wien(wavelengths, realtemp).asnumpy(), label='true')\n",
    "plt.legend()\n",
    "plt.show()"
   ]
  },
  {
   "cell_type": "markdown",
   "metadata": {
    "ExecuteTime": {
     "end_time": "2019-01-29T19:41:18.204791Z",
     "start_time": "2019-01-29T19:41:18.201091Z"
    }
   },
   "source": [
    "Use Gluon to estimate the real temperature based on the variables `wavelengths` and `radiance`. \n",
    "\n",
    "* You can use Wien's law implementation `wien(lam,t)` as your forward model. \n",
    "* Use the loss function $l(y,y') = (\\log y - \\log y')^2$ to measure accuracy."
   ]
  },
  {
   "cell_type": "code",
   "execution_count": null,
   "metadata": {},
   "outputs": [],
   "source": [
    "batch_size = 10\n",
    "data_set = yikes"
   ]
  }
 ],
 "metadata": {
  "anaconda-cloud": {},
  "kernelspec": {
   "display_name": "Python 3",
   "language": "python",
   "name": "python3"
  },
  "language_info": {
   "codemirror_mode": {
    "name": "ipython",
    "version": 3
   },
   "file_extension": ".py",
   "mimetype": "text/x-python",
   "name": "python",
   "nbconvert_exporter": "python",
   "pygments_lexer": "ipython3",
   "version": "3.7.1"
  }
 },
 "nbformat": 4,
 "nbformat_minor": 2
}
